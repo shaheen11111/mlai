{
 "cells": [
  {
   "cell_type": "markdown",
   "id": "30ec30e7",
   "metadata": {},
   "source": [
    "# DAY 3"
   ]
  },
  {
   "cell_type": "code",
   "execution_count": 7,
   "id": "100c9eff",
   "metadata": {},
   "outputs": [],
   "source": [
    "def add(a,b):\n",
    "    s=a+b\n",
    "    return s"
   ]
  },
  {
   "cell_type": "code",
   "execution_count": 8,
   "id": "82c14530",
   "metadata": {},
   "outputs": [
    {
     "data": {
      "text/plain": [
       "5"
      ]
     },
     "execution_count": 8,
     "metadata": {},
     "output_type": "execute_result"
    }
   ],
   "source": [
    "add(3,2)"
   ]
  },
  {
   "cell_type": "code",
   "execution_count": 9,
   "id": "3fb809cf",
   "metadata": {},
   "outputs": [
    {
     "name": "stdout",
     "output_type": "stream",
     "text": [
      "Enter the first num56\n",
      "Enter the second num96\n",
      "sum is 152\n"
     ]
    }
   ],
   "source": [
    "x=int(input('Enter the first num'))\n",
    "y=int(input('Enter the second num'))\n",
    "print('sum is',add(x,y))"
   ]
  },
  {
   "cell_type": "code",
   "execution_count": 16,
   "id": "e2aa936a",
   "metadata": {},
   "outputs": [],
   "source": [
    "def greatest(a,b,c):\n",
    "    if a>b and a>c:\n",
    "        return a\n",
    "    elif b>a and b>c:\n",
    "        return b\n",
    "    else:\n",
    "        return c"
   ]
  },
  {
   "cell_type": "code",
   "execution_count": 17,
   "id": "79033be2",
   "metadata": {},
   "outputs": [
    {
     "data": {
      "text/plain": [
       "928369792792752"
      ]
     },
     "execution_count": 17,
     "metadata": {},
     "output_type": "execute_result"
    }
   ],
   "source": [
    "greatest(8263,8723581635,928369792792752)"
   ]
  },
  {
   "cell_type": "markdown",
   "id": "50fa9d97",
   "metadata": {},
   "source": [
    "# Python Practice Problems"
   ]
  },
  {
   "cell_type": "code",
   "execution_count": 22,
   "id": "7ba755ca",
   "metadata": {},
   "outputs": [
    {
     "name": "stdout",
     "output_type": "stream",
     "text": [
      "10\n"
     ]
    }
   ],
   "source": [
    "scores = [7,8,9,10,11,11]\n",
    "sc_set = set(scores)\n",
    "top = max(sc_set)\n",
    "sc_set.remove(top)\n",
    "print(max(sc_set))"
   ]
  },
  {
   "cell_type": "code",
   "execution_count": 23,
   "id": "3379a5dd",
   "metadata": {},
   "outputs": [
    {
     "data": {
      "text/plain": [
       "11"
      ]
     },
     "execution_count": 23,
     "metadata": {},
     "output_type": "execute_result"
    }
   ],
   "source": [
    "top"
   ]
  },
  {
   "cell_type": "code",
   "execution_count": 24,
   "id": "6f40911c",
   "metadata": {},
   "outputs": [
    {
     "name": "stdout",
     "output_type": "stream",
     "text": [
      "{8, 5, 6}\n"
     ]
    }
   ],
   "source": [
    "s1 = {5,6,8,9,4,7}\n",
    "s2 = {6,3,22,5,8}\n",
    "if s1.intersection(s2):\n",
    "    print(s1&s2)\n",
    "else:\n",
    "    print(s1.union(s2))"
   ]
  },
  {
   "cell_type": "code",
   "execution_count": 30,
   "id": "87061d39",
   "metadata": {},
   "outputs": [
    {
     "name": "stdout",
     "output_type": "stream",
     "text": [
      "Enter the name to be updatedjohn\n",
      "{'john': [88, 77, 99], 'peter': [87, 55, 96], 'ram': [58, 55, 43], 'meena': [63, 79, 85]}\n"
     ]
    }
   ],
   "source": [
    "D={'john' :[25,32,43],'peter':[87,55,96],'ram':[58,55,43],'meena':[63,79,85]}\n",
    "n =input('Enter the name to be updated')\n",
    "if n in D:\n",
    "   D[n]=[88,77,99] \n",
    "   print(D)\n",
    "else:\n",
    "    print('Name not Found')"
   ]
  },
  {
   "cell_type": "code",
   "execution_count": null,
   "id": "f5b85cf8",
   "metadata": {},
   "outputs": [],
   "source": []
  }
 ],
 "metadata": {
  "kernelspec": {
   "display_name": "Python 3 (ipykernel)",
   "language": "python",
   "name": "python3"
  },
  "language_info": {
   "codemirror_mode": {
    "name": "ipython",
    "version": 3
   },
   "file_extension": ".py",
   "mimetype": "text/x-python",
   "name": "python",
   "nbconvert_exporter": "python",
   "pygments_lexer": "ipython3",
   "version": "3.11.5"
  }
 },
 "nbformat": 4,
 "nbformat_minor": 5
}
